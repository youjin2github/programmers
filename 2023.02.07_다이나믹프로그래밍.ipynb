{
 "cells": [
  {
   "cell_type": "code",
   "execution_count": 1,
   "id": "17ab6f58",
   "metadata": {},
   "outputs": [
    {
     "name": "stdout",
     "output_type": "stream",
     "text": [
      "3\n"
     ]
    }
   ],
   "source": [
    "#피보나치 함수를 재귀함수로 표현\n",
    "def fibo(x):\n",
    "    if x == 1 or x ==2:\n",
    "        return 1\n",
    "    return fibo(x-1) + fibo(x-2)\n",
    "\n",
    "print(fibo(4))"
   ]
  },
  {
   "cell_type": "code",
   "execution_count": 2,
   "id": "ade800ad",
   "metadata": {},
   "outputs": [
    {
     "name": "stdout",
     "output_type": "stream",
     "text": [
      "218922995834555169026\n"
     ]
    }
   ],
   "source": [
    "# 한번 계산된 결과를 기억하기 위해 리스트를 초기화\n",
    "d = [0]*100\n",
    "# 피보나치 함수를 재귀함수로 구현\n",
    "def fibo(x):\n",
    "    # 종료조건 1 혹은 2일때 1을 반환\n",
    "    if x ==1 or x ==2 :\n",
    "        return 1\n",
    "    # 이미 계산한적 있는 문제라면 그대로 반환\n",
    "    if d[x] != 0:\n",
    "        return d[x]\n",
    "    # 아직 계산하지 않은 문제라면 점화식에 따라 피보나치 결과 반환\n",
    "    d[x] = fibo(x-1) + fibo(x-2)\n",
    "    return d[x]\n",
    "print(fibo(99))"
   ]
  },
  {
   "cell_type": "code",
   "execution_count": null,
   "id": "58ab90e7",
   "metadata": {},
   "outputs": [],
   "source": [
    "# 1로 만들기\n",
    "\n",
    "## x를 입력받기\n",
    "x = int(input())\n",
    "\n",
    "## dp테이블 초기화\n",
    "d = [0]*3001\n",
    "\n",
    "## 다이나믹 프로그래밍 진행\n",
    "for i in range(2,x+1):\n",
    "    # 현재의 수에서 1을 뺀다\n",
    "    d[i] = d[i-1] + 1\n",
    "    # 현재의 수에서 2로 나뉘어 지는 경우\n",
    "    if i%2 == 0:\n",
    "        d[i] = min(d[i],d[i//2]+1)\n",
    "    # 현재의 수에서 3으로 나뉘어 지는 경우\n",
    "    if i%3 == 0:\n",
    "        d[i] = min(d[i],d[i//3]+1)\n",
    "    # 현재의 수에서 5으로 나뉘어 지는 경우\n",
    "    if i%5 == 0:\n",
    "        d[i] == min(d[i],d[i//5]+1)\n",
    "        \n",
    "print(d[x])"
   ]
  },
  {
   "cell_type": "code",
   "execution_count": null,
   "id": "a57b983a",
   "metadata": {},
   "outputs": [],
   "source": [
    "#8_6\n",
    "# 정수 n 입력받기\n",
    "n = int(input())\n",
    "# 모든 식량 정보 입력받기\n",
    "array = list(map(int,input().split()))\n",
    "\n",
    "d = [0]*100\n",
    "\n",
    "d[0] = array[0]\n",
    "d[1] = max(array[0],array[1])\n",
    "for i in range(2,n):\n",
    "    d[i] = max(d[i-1], d[i-2] + array[i])\n",
    "\n",
    "print(d[n-1])"
   ]
  },
  {
   "cell_type": "code",
   "execution_count": null,
   "id": "efe8d1be",
   "metadata": {},
   "outputs": [],
   "source": [
    "n = int(input())\n",
    "d = [0]*1001\n",
    "d[1] = 1\n",
    "d[2] = 3\n",
    "for i in range(3,n+1):\n",
    "    d[i] = (d[i-1]+d[i-2]*2)*796796\n",
    "print(d[n])"
   ]
  }
 ],
 "metadata": {
  "kernelspec": {
   "display_name": "Python 3 (ipykernel)",
   "language": "python",
   "name": "python3"
  },
  "language_info": {
   "codemirror_mode": {
    "name": "ipython",
    "version": 3
   },
   "file_extension": ".py",
   "mimetype": "text/x-python",
   "name": "python",
   "nbconvert_exporter": "python",
   "pygments_lexer": "ipython3",
   "version": "3.11.0"
  }
 },
 "nbformat": 4,
 "nbformat_minor": 5
}
