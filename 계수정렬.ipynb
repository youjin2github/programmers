{
 "cells": [
  {
   "cell_type": "code",
   "execution_count": 1,
   "id": "e2e223c1",
   "metadata": {},
   "outputs": [],
   "source": [
    "# 데이터 = 자연수"
   ]
  },
  {
   "cell_type": "code",
   "execution_count": 2,
   "id": "aa1c69f9",
   "metadata": {},
   "outputs": [],
   "source": [
    "array = [7,9,6,4,7,7,1,1,2,2,4]"
   ]
  },
  {
   "cell_type": "code",
   "execution_count": 12,
   "id": "2930b98b",
   "metadata": {},
   "outputs": [],
   "source": [
    "# 모든 범위를 포함하는 리스트를 선언\n",
    "count = [0] * (max(array)+1)"
   ]
  },
  {
   "cell_type": "code",
   "execution_count": 13,
   "id": "6c792d37",
   "metadata": {},
   "outputs": [],
   "source": [
    "for i in range(len(array)):\n",
    "    count[array[i]] += 1"
   ]
  },
  {
   "cell_type": "code",
   "execution_count": 15,
   "id": "be3d667a",
   "metadata": {},
   "outputs": [
    {
     "name": "stdout",
     "output_type": "stream",
     "text": [
      "1 1 2 2 4 4 6 7 7 7 9 "
     ]
    }
   ],
   "source": [
    "for i in range(len(count)):\n",
    "    for j in range(count[i]):\n",
    "        print(i, end =  \" \")"
   ]
  }
 ],
 "metadata": {
  "kernelspec": {
   "display_name": "Python 3 (ipykernel)",
   "language": "python",
   "name": "python3"
  },
  "language_info": {
   "codemirror_mode": {
    "name": "ipython",
    "version": 3
   },
   "file_extension": ".py",
   "mimetype": "text/x-python",
   "name": "python",
   "nbconvert_exporter": "python",
   "pygments_lexer": "ipython3",
   "version": "3.11.0"
  }
 },
 "nbformat": 4,
 "nbformat_minor": 5
}
