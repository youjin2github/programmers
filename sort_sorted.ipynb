{
 "cells": [
  {
   "cell_type": "code",
   "execution_count": 1,
   "id": "b0b77b76",
   "metadata": {},
   "outputs": [],
   "source": [
    "array = [2,7,5,4,1]"
   ]
  },
  {
   "cell_type": "code",
   "execution_count": 2,
   "id": "3842e87e",
   "metadata": {},
   "outputs": [],
   "source": [
    "array.sort()"
   ]
  },
  {
   "cell_type": "code",
   "execution_count": 4,
   "id": "44d8cff5",
   "metadata": {},
   "outputs": [
    {
     "data": {
      "text/plain": [
       "[1, 2, 4, 5, 7]"
      ]
     },
     "execution_count": 4,
     "metadata": {},
     "output_type": "execute_result"
    }
   ],
   "source": [
    "sorted(array)"
   ]
  },
  {
   "cell_type": "code",
   "execution_count": 5,
   "id": "a881d039",
   "metadata": {},
   "outputs": [],
   "source": [
    "array = [('A',5),('C',1),('B',8)]"
   ]
  },
  {
   "cell_type": "code",
   "execution_count": 10,
   "id": "23fbc983",
   "metadata": {},
   "outputs": [
    {
     "name": "stdout",
     "output_type": "stream",
     "text": [
      "[('A', 5), ('B', 8), ('C', 1)]\n"
     ]
    }
   ],
   "source": [
    "def setting(data):\n",
    "    return data[0]\n",
    "result = sorted(array, key = setting)\n",
    "print(result)"
   ]
  }
 ],
 "metadata": {
  "kernelspec": {
   "display_name": "Python 3 (ipykernel)",
   "language": "python",
   "name": "python3"
  },
  "language_info": {
   "codemirror_mode": {
    "name": "ipython",
    "version": 3
   },
   "file_extension": ".py",
   "mimetype": "text/x-python",
   "name": "python",
   "nbconvert_exporter": "python",
   "pygments_lexer": "ipython3",
   "version": "3.11.0"
  }
 },
 "nbformat": 4,
 "nbformat_minor": 5
}
