{
 "cells": [
  {
   "cell_type": "code",
   "execution_count": 1,
   "id": "1164613a",
   "metadata": {},
   "outputs": [],
   "source": [
    "array = [3,6,4,5,1,9,7]"
   ]
  },
  {
   "cell_type": "code",
   "execution_count": 6,
   "id": "f9ed9755",
   "metadata": {},
   "outputs": [
    {
     "name": "stdout",
     "output_type": "stream",
     "text": [
      "[1, 3, 4, 5, 6, 7, 9]\n"
     ]
    }
   ],
   "source": [
    "def quick(array, start, end):\n",
    "    if start >= end: # 원소가 1개인 경우 종료\n",
    "        return \n",
    "    pivot = start\n",
    "    left = start + 1\n",
    "    right = end\n",
    "    while left <= right:\n",
    "        # 피벗보다 큰 데이터를 찾을때까지 반복\n",
    "        while left <= end and array[left] <= array[pivot]:\n",
    "            left += 1\n",
    "        # 피벗보다 작은 데이터를 찾을때까지 반복\n",
    "        while right > start and array[right] > array[pivot]:\n",
    "            right -= 1\n",
    "        # 엇갈렸다면 작은 데이터와 피벗을 교체\n",
    "        if left > right:\n",
    "            array[right], array[pivot] = array[pivot], array[right]\n",
    "        # 엇갈리지 않았다면 작은 데이터와 큰 데이터를 교체\n",
    "        else:\n",
    "            array[left], array[right] = array[right], array[left]\n",
    "    # 분할 이후 왼쪽 부분과 오른쪽 부분에서 각각 정렬 수행\n",
    "    quick(array, start, right -1)\n",
    "    quick(array, right +1, end)\n",
    "    \n",
    "quick(array, 0, len(array)-1)\n",
    "print(array)          "
   ]
  },
  {
   "cell_type": "code",
   "execution_count": 7,
   "id": "78d1ab86",
   "metadata": {},
   "outputs": [
    {
     "name": "stdout",
     "output_type": "stream",
     "text": [
      "[1, 3, 4, 5, 6, 7, 9]\n"
     ]
    }
   ],
   "source": [
    "def quick(array):\n",
    "    # 리스트가 하나 이하의 원소만 담고 있다면 종료\n",
    "    if len(array) <= 1:\n",
    "        return array\n",
    "    # 피벗 = 첫 번째 원소\n",
    "    pivot = array[0]\n",
    "    # 피벗을 제외한 리스트 \n",
    "    tail = array[1:]\n",
    "    # 분할된 왼쪽\n",
    "    left_side = [x for x in tail if x <= pivot]\n",
    "    # 분할된 오른쪽\n",
    "    right_side = [x for x in tail if x > pivot]\n",
    "    # 왼쪽, 오른쪽을 각각 정렬하고 이를 리스트로 반환\n",
    "    return quick(left_side) + [pivot] + quick(right_side)\n",
    "print(quick(array))"
   ]
  }
 ],
 "metadata": {
  "kernelspec": {
   "display_name": "Python 3 (ipykernel)",
   "language": "python",
   "name": "python3"
  },
  "language_info": {
   "codemirror_mode": {
    "name": "ipython",
    "version": 3
   },
   "file_extension": ".py",
   "mimetype": "text/x-python",
   "name": "python",
   "nbconvert_exporter": "python",
   "pygments_lexer": "ipython3",
   "version": "3.11.0"
  }
 },
 "nbformat": 4,
 "nbformat_minor": 5
}
