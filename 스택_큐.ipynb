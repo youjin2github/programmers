{
 "cells": [
  {
   "cell_type": "code",
   "execution_count": 8,
   "id": "ae138d5f",
   "metadata": {},
   "outputs": [],
   "source": [
    "# 스택 후입선출\n",
    "# append = 가장 마지막부터 데이터를 삽입 df.append(n)\n",
    "# pop = 가장 뒤(마지막에 들어간 데이터)부터 데이터를 꺼냄 df.pop()\n",
    "stack = []"
   ]
  },
  {
   "cell_type": "code",
   "execution_count": 9,
   "id": "35a3747e",
   "metadata": {},
   "outputs": [
    {
     "data": {
      "text/plain": [
       "1"
      ]
     },
     "execution_count": 9,
     "metadata": {},
     "output_type": "execute_result"
    }
   ],
   "source": [
    "stack.append(3)\n",
    "stack.append(2)\n",
    "stack.append(1)\n",
    "stack.pop(2)"
   ]
  },
  {
   "cell_type": "code",
   "execution_count": 30,
   "id": "f5b7b99c",
   "metadata": {},
   "outputs": [
    {
     "data": {
      "text/plain": [
       "[3, 2]"
      ]
     },
     "execution_count": 30,
     "metadata": {},
     "output_type": "execute_result"
    }
   ],
   "source": [
    "stack"
   ]
  },
  {
   "cell_type": "code",
   "execution_count": 32,
   "id": "f30f733a",
   "metadata": {},
   "outputs": [
    {
     "data": {
      "text/plain": [
       "[2, 3]"
      ]
     },
     "execution_count": 32,
     "metadata": {},
     "output_type": "execute_result"
    }
   ],
   "source": [
    "stack[::-1]\n",
    "# 반대로 출력"
   ]
  },
  {
   "cell_type": "code",
   "execution_count": 11,
   "id": "bb455a26",
   "metadata": {},
   "outputs": [],
   "source": [
    "# 큐 선입선출\n",
    "# queue.append(n)\n",
    "# queue.popleft(n)"
   ]
  },
  {
   "cell_type": "code",
   "execution_count": 13,
   "id": "9df185d9",
   "metadata": {},
   "outputs": [],
   "source": [
    "from collections import deque\n",
    "# 큐는 데크 라이브러리를 사용한다 "
   ]
  },
  {
   "cell_type": "code",
   "execution_count": 20,
   "id": "345ea0f8",
   "metadata": {},
   "outputs": [],
   "source": [
    "queue = deque()"
   ]
  },
  {
   "cell_type": "code",
   "execution_count": 21,
   "id": "db81686d",
   "metadata": {},
   "outputs": [
    {
     "data": {
      "text/plain": [
       "4"
      ]
     },
     "execution_count": 21,
     "metadata": {},
     "output_type": "execute_result"
    }
   ],
   "source": [
    "queue.append(4)\n",
    "queue.append(3)\n",
    "queue.append(2)\n",
    "queue.append(1)\n",
    "queue.popleft()"
   ]
  },
  {
   "cell_type": "code",
   "execution_count": 26,
   "id": "4f64d397",
   "metadata": {},
   "outputs": [
    {
     "data": {
      "text/plain": [
       "deque([3, 2, 1])"
      ]
     },
     "execution_count": 26,
     "metadata": {},
     "output_type": "execute_result"
    }
   ],
   "source": [
    "queue"
   ]
  },
  {
   "cell_type": "code",
   "execution_count": 27,
   "id": "d47bf88e",
   "metadata": {},
   "outputs": [
    {
     "data": {
      "text/plain": [
       "deque([1, 2, 3])"
      ]
     },
     "execution_count": 27,
     "metadata": {},
     "output_type": "execute_result"
    }
   ],
   "source": [
    "queue.reverse()\n",
    "queue"
   ]
  }
 ],
 "metadata": {
  "kernelspec": {
   "display_name": "Python 3 (ipykernel)",
   "language": "python",
   "name": "python3"
  },
  "language_info": {
   "codemirror_mode": {
    "name": "ipython",
    "version": 3
   },
   "file_extension": ".py",
   "mimetype": "text/x-python",
   "name": "python",
   "nbconvert_exporter": "python",
   "pygments_lexer": "ipython3",
   "version": "3.11.0"
  }
 },
 "nbformat": 4,
 "nbformat_minor": 5
}
