{
 "cells": [
  {
   "cell_type": "code",
   "execution_count": 4,
   "id": "cb14799c",
   "metadata": {},
   "outputs": [],
   "source": [
    "#DFS"
   ]
  },
  {
   "cell_type": "code",
   "execution_count": 7,
   "id": "fd7f477c",
   "metadata": {},
   "outputs": [
    {
     "name": "stdout",
     "output_type": "stream",
     "text": [
      "[1, 2, 3, 4, 5, 6, 7, 8, 9, 10]\n"
     ]
    }
   ],
   "source": [
    "## 재귀함수\n",
    "# 노드 : [달려있는노드,,,] 모든 노드를 작성해야한다\n",
    "graph = {\n",
    "    1: [2, 5, 9],\n",
    "    2: [1, 3],\n",
    "    3: [2, 4],\n",
    "    4: [3],\n",
    "    5: [1, 6, 8],\n",
    "    6: [5, 7],\n",
    "    7: [6],\n",
    "    8: [5],\n",
    "    9: [1, 10],\n",
    "    10: [9]\n",
    "}\n",
    "visited = []\n",
    "\n",
    "\n",
    "def dfs(a_graph, cur_node, visited_array):\n",
    "    visited_array.append(cur_node)\n",
    "\n",
    "    for i in a_graph[cur_node] :\n",
    "        if i not in visited_array:\n",
    "            dfs(a_graph,i,visited_array)\n",
    "\n",
    "\n",
    "    return\n",
    "\n",
    "\n",
    "# 시작노드를 가운데에 넣기 1이 시작노드\n",
    "dfs(graph, 1, visited)\n",
    "print(visited)  # [1, 2, 3, 4, 5, 6, 7, 8, 9, 10] 이 출력되어야 합니다!"
   ]
  },
  {
   "cell_type": "code",
   "execution_count": null,
   "id": "67c8a1b4",
   "metadata": {},
   "outputs": [],
   "source": [
    "## 스택\n",
    "def dfs_stack(adjacent_graph, start_node):\n",
    "    stack = [start_node]\n",
    "    visited = []\n",
    "    while stack:\n",
    "        current_node = stack.pop()\n",
    "        visited.append(current_node)\n",
    "        for adjacent_node in adjacent_graph[current_node]:\n",
    "            if adjacent_node not in visited:\n",
    "                stack.append(adjacent_node)\n",
    "    return visited"
   ]
  },
  {
   "cell_type": "code",
   "execution_count": null,
   "id": "b6f70ad4",
   "metadata": {},
   "outputs": [],
   "source": [
    "# 위의 그래프를 예시로 삼아서 인접 리스트 방식으로 표현했습니다!\n",
    "graph = {\n",
    "    1: [2, 3, 4],\n",
    "    2: [1, 5],\n",
    "    3: [1, 6, 7],\n",
    "    4: [1, 8],\n",
    "    5: [2, 9],\n",
    "    6: [3, 10],\n",
    "    7: [3],\n",
    "    8: [4],\n",
    "    9: [5],\n",
    "    10: [6]\n",
    "}\n",
    "\n",
    "\n",
    "def bfs_queue(adj_graph, start_node):\n",
    "    queue=[start_node]\n",
    "    visited =[]\n",
    "\n",
    "    while queue:\n",
    "        current_node = queue.pop(0)\n",
    "        visited.append(current_node)\n",
    "        for adjacent_node in adj_graph[current_node]:\n",
    "            if adjacent_node not in visited:\n",
    "                queue.append(adjacent_node)\n",
    "    # 구현해보세요!\n",
    "    return visited\n",
    "\n",
    "print(bfs_queue(graph, 1))  # 1 이 시작노드입니다!\n",
    "# [1, 2, 3, 4, 5, 6, 7, 8, 9, 10] 이 출력되어야 합니다!\n"
   ]
  }
 ],
 "metadata": {
  "kernelspec": {
   "display_name": "Python 3 (ipykernel)",
   "language": "python",
   "name": "python3"
  },
  "language_info": {
   "codemirror_mode": {
    "name": "ipython",
    "version": 3
   },
   "file_extension": ".py",
   "mimetype": "text/x-python",
   "name": "python",
   "nbconvert_exporter": "python",
   "pygments_lexer": "ipython3",
   "version": "3.11.0"
  }
 },
 "nbformat": 4,
 "nbformat_minor": 5
}
